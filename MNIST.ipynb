{
 "cells": [
  {
   "cell_type": "code",
   "execution_count": 1,
   "metadata": {},
   "outputs": [
    {
     "name": "stderr",
     "output_type": "stream",
     "text": [
      "Using TensorFlow backend.\n"
     ]
    }
   ],
   "source": [
    "# Importing required packages\n",
    "\n",
    "from sklearn.model_selection import train_test_split\n",
    "from sklearn.metrics import classification_report\n",
    "from sklearn.metrics import accuracy_score\n",
    "from keras.models import Sequential\n",
    "from keras.layers.core import Dense\n",
    "from keras.optimizers import SGD\n",
    "from sklearn import datasets\n",
    "import matplotlib.pyplot as plt\n",
    "import numpy as np\n",
    "import keras"
   ]
  },
  {
   "cell_type": "code",
   "execution_count": 2,
   "metadata": {},
   "outputs": [
    {
     "name": "stdout",
     "output_type": "stream",
     "text": [
      "[INFO] loading MNIST (full) dataset...\n"
     ]
    }
   ],
   "source": [
    "# Fetching the MNIST dataset\n",
    "\n",
    "print(\"[INFO] loading MNIST (full) dataset...\")\n",
    "dataset = datasets.fetch_mldata(\"MNIST Original\")"
   ]
  },
  {
   "cell_type": "code",
   "execution_count": 3,
   "metadata": {},
   "outputs": [],
   "source": [
    "# Scaling pixel intensities in range [0 - 255] to range [0 - 1]\n",
    "\n",
    "X = dataset.data/255\n",
    "y = dataset.target\n",
    "(trainX, testX, trainY, testY) = train_test_split(X, y,test_size=0.25, random_state=12)\n",
    "one_hot_labels = keras.utils.to_categorical(trainY, num_classes=10)"
   ]
  },
  {
   "cell_type": "code",
   "execution_count": 4,
   "metadata": {},
   "outputs": [],
   "source": [
    "# Initializing Network Design (784 - 256 - 128 -10)\n",
    "\n",
    "model = Sequential()\n",
    "model.add(Dense(256, activation='relu', input_dim=784))\n",
    "model.add(Dense(128, activation='relu'))\n",
    "model.add(Dense(10, activation='softmax'))"
   ]
  },
  {
   "cell_type": "code",
   "execution_count": 5,
   "metadata": {},
   "outputs": [
    {
     "name": "stdout",
     "output_type": "stream",
     "text": [
      "Epoch 1/20\n",
      "52500/52500 [==============================] - 5s 98us/step - loss: 0.4669 - acc: 0.8708\n",
      "Epoch 2/20\n",
      "52500/52500 [==============================] - 4s 85us/step - loss: 0.2093 - acc: 0.9398\n",
      "Epoch 3/20\n",
      "52500/52500 [==============================] - 5s 87us/step - loss: 0.1571 - acc: 0.9550\n",
      "Epoch 4/20\n",
      "52500/52500 [==============================] - 5s 89us/step - loss: 0.1252 - acc: 0.9640\n",
      "Epoch 5/20\n",
      "52500/52500 [==============================] - 5s 87us/step - loss: 0.1039 - acc: 0.9707\n",
      "Epoch 6/20\n",
      "52500/52500 [==============================] - 5s 88us/step - loss: 0.0878 - acc: 0.9743\n",
      "Epoch 7/20\n",
      "52500/52500 [==============================] - 4s 85us/step - loss: 0.0751 - acc: 0.9783\n",
      "Epoch 8/20\n",
      "52500/52500 [==============================] - 4s 80us/step - loss: 0.0649 - acc: 0.9815\n",
      "Epoch 9/20\n",
      "52500/52500 [==============================] - 4s 84us/step - loss: 0.0573 - acc: 0.9838\n",
      "Epoch 10/20\n",
      "52500/52500 [==============================] - 4s 84us/step - loss: 0.0494 - acc: 0.9862\n",
      "Epoch 11/20\n",
      "52500/52500 [==============================] - 4s 82us/step - loss: 0.0435 - acc: 0.9881\n",
      "Epoch 12/20\n",
      "52500/52500 [==============================] - 4s 83us/step - loss: 0.0386 - acc: 0.9897\n",
      "Epoch 13/20\n",
      "52500/52500 [==============================] - 4s 84us/step - loss: 0.0342 - acc: 0.9912\n",
      "Epoch 14/20\n",
      "52500/52500 [==============================] - 4s 80us/step - loss: 0.0302 - acc: 0.9925\n",
      "Epoch 15/20\n",
      "52500/52500 [==============================] - 4s 76us/step - loss: 0.0270 - acc: 0.9933\n",
      "Epoch 16/20\n",
      "52500/52500 [==============================] - 4s 82us/step - loss: 0.0246 - acc: 0.9940\n",
      "Epoch 17/20\n",
      "52500/52500 [==============================] - 4s 82us/step - loss: 0.0211 - acc: 0.9955\n",
      "Epoch 18/20\n",
      "52500/52500 [==============================] - 4s 78us/step - loss: 0.0184 - acc: 0.9962\n",
      "Epoch 19/20\n",
      "52500/52500 [==============================] - 4s 79us/step - loss: 0.0163 - acc: 0.9970\n",
      "Epoch 20/20\n",
      "52500/52500 [==============================] - 4s 82us/step - loss: 0.0144 - acc: 0.9977\n",
      "52500/52500 [==============================] - 2s 34us/step\n"
     ]
    }
   ],
   "source": [
    "# Training the model using Stochastic Gradient Descent\n",
    "\n",
    "sgd = SGD(lr=0.01, decay=1e-6, momentum=0.9, nesterov=True)\n",
    "model.compile(loss='categorical_crossentropy',\n",
    "              optimizer=sgd,\n",
    "              metrics=['accuracy'])\n",
    "\n",
    "model.fit(trainX, one_hot_labels,\n",
    "          epochs=20,\n",
    "          batch_size=128)\n",
    "score = model.evaluate(trainX, one_hot_labels, batch_size=128)"
   ]
  },
  {
   "cell_type": "code",
   "execution_count": 6,
   "metadata": {},
   "outputs": [
    {
     "name": "stdout",
     "output_type": "stream",
     "text": [
      "[INFO] evaluating network...\n",
      "The Classification Report is              precision    recall  f1-score   support\n",
      "\n",
      "        0.0       0.98      0.99      0.99      1723\n",
      "        1.0       0.99      0.99      0.99      1884\n",
      "        2.0       0.99      0.97      0.98      1792\n",
      "        3.0       0.98      0.97      0.97      1821\n",
      "        4.0       0.98      0.98      0.98      1733\n",
      "        5.0       0.96      0.97      0.97      1565\n",
      "        6.0       0.98      0.98      0.98      1718\n",
      "        7.0       0.97      0.98      0.98      1806\n",
      "        8.0       0.97      0.97      0.97      1730\n",
      "        9.0       0.97      0.96      0.97      1728\n",
      "\n",
      "avg / total       0.98      0.98      0.98     17500\n",
      "\n",
      "The Accuracy is =  0.9781142857142857\n"
     ]
    }
   ],
   "source": [
    "# Evaluating the Network\n",
    "\n",
    "print(\"[INFO] evaluating network...\")\n",
    "predictions = model.predict(testX, batch_size=128)\n",
    "print('The Classification Report is', classification_report(testY, predictions.argmax(axis=1) ))\n",
    "print (\"The Accuracy is = \" , accuracy_score(testY,predictions.argmax(axis=1)))"
   ]
  }
 ],
 "metadata": {
  "kernelspec": {
   "display_name": "Python 3",
   "language": "python",
   "name": "python3"
  },
  "language_info": {
   "codemirror_mode": {
    "name": "ipython",
    "version": 3
   },
   "file_extension": ".py",
   "mimetype": "text/x-python",
   "name": "python",
   "nbconvert_exporter": "python",
   "pygments_lexer": "ipython3",
   "version": "3.6.6"
  }
 },
 "nbformat": 4,
 "nbformat_minor": 2
}
